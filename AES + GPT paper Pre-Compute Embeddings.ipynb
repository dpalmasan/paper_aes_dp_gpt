{
 "cells": [
  {
   "cell_type": "markdown",
   "id": "7c042971",
   "metadata": {},
   "source": [
    "# Compute GPT4 embeddings for essays\n",
    "\n",
    "This is a helper notebook to pre-process the essays. It is used to pre-compute the GPT-4 embeddings from OpenAI. The dataset used for the experiments was from the competition [The Hewlett Foundation: Automated Essay Scoring](https://www.kaggle.com/competitions/asap-aes/data).\n",
    "\n",
    "We don't distribute the data, but the data can be obtained from Kaggle and downloaded there.\n"
   ]
  },
  {
   "cell_type": "code",
   "execution_count": 16,
   "id": "c068ecf8",
   "metadata": {},
   "outputs": [],
   "source": [
    "import numpy as np\n",
    "import pandas as pd\n",
    "import os\n",
    "from textblob import TextBlob\n",
    "from openai import OpenAI\n",
    "\n",
    "ESSAY_SET = 2\n",
    "client = OpenAI(api_key=os.environ[\"OPEN_AI_API_KEY\"])\n",
    "\n",
    "\n",
    "def get_embedding(text, model=\"text-embedding-3-small\"):\n",
    "    text = text.replace(\"\\n\", \" \")\n",
    "    return client.embeddings.create(input=[text], model=model).data[0].embedding"
   ]
  },
  {
   "cell_type": "code",
   "execution_count": 17,
   "id": "9fbbedfb",
   "metadata": {},
   "outputs": [],
   "source": [
    "df = pd.read_csv(\n",
    "    \"./training_set_rel3.tsv\",\n",
    "    sep=\"\\t\",\n",
    "    encoding=\"ISO-8859-1\",\n",
    "    usecols=[\"essay_id\", \"essay_set\", \"essay\", \"domain1_score\", \"domain2_score\"],\n",
    ")\n",
    "\n",
    "df = df[df[\"essay_set\"] == ESSAY_SET]"
   ]
  },
  {
   "cell_type": "code",
   "execution_count": 18,
   "id": "a89f32a7",
   "metadata": {},
   "outputs": [],
   "source": [
    "essay_id, essay_set, essay, domain1_score, domain2_score = df.essay_id.tolist(), df.essay_set.tolist(), df.essay.tolist(), df.domain1_score.tolist(), df.domain2_score.tolist()"
   ]
  },
  {
   "cell_type": "code",
   "execution_count": 19,
   "id": "2ca611d9",
   "metadata": {},
   "outputs": [
    {
     "data": {
      "text/plain": [
       "19"
      ]
     },
     "execution_count": 19,
     "metadata": {},
     "output_type": "execute_result"
    }
   ],
   "source": [
    "from nltk.tokenize import sent_tokenize\n",
    "\n",
    "def get_features(essay_id, essay_set, essay, domain1_score, domain2_score):\n",
    "    text = essay\n",
    "    sentences = sent_tokenize(text)\n",
    "    embs = [get_embedding(sent) for sent in sentences]\n",
    "    return {\n",
    "        \"essay_id\": essay_id,\n",
    "        \"essay_set\": essay_set,\n",
    "        \"essay\": essay,\n",
    "        \"domain1_score\": domain1_score,\n",
    "        \"domain2_score\": domain2_score,\n",
    "        \"embs\": embs\n",
    "    }\n",
    "\n",
    "args = list(zip(essay_id, essay_set, essay, domain1_score, domain2_score))[0]\n",
    "len(get_features(*args)[\"embs\"])"
   ]
  },
  {
   "cell_type": "code",
   "execution_count": 20,
   "id": "c1bfaf8e",
   "metadata": {},
   "outputs": [
    {
     "data": {
      "application/vnd.jupyter.widget-view+json": {
       "model_id": "8aa15dd1b0a44f56bf9d82b14af68df1",
       "version_major": 2,
       "version_minor": 0
      },
      "text/plain": [
       "QUEUEING TASKS | :   0%|          | 0/1800 [00:00<?, ?it/s]"
      ]
     },
     "metadata": {},
     "output_type": "display_data"
    },
    {
     "data": {
      "application/vnd.jupyter.widget-view+json": {
       "model_id": "978f01fb547649599d6688c028537ec2",
       "version_major": 2,
       "version_minor": 0
      },
      "text/plain": [
       "PROCESSING TASKS | :   0%|          | 0/1800 [00:00<?, ?it/s]"
      ]
     },
     "metadata": {},
     "output_type": "display_data"
    },
    {
     "data": {
      "application/vnd.jupyter.widget-view+json": {
       "model_id": "9222f7381d4e4a4fa090cccd2f1bc2d3",
       "version_major": 2,
       "version_minor": 0
      },
      "text/plain": [
       "COLLECTING RESULTS | :   0%|          | 0/1800 [00:00<?, ?it/s]"
      ]
     },
     "metadata": {},
     "output_type": "display_data"
    }
   ],
   "source": [
    "from pqdm.processes import pqdm\n",
    "\n",
    "args = list(zip(essay_id, essay_set, essay, domain1_score, domain2_score))\n",
    "results = pqdm(args, get_features, n_jobs=8, argument_type=\"args\")"
   ]
  },
  {
   "cell_type": "code",
   "execution_count": 21,
   "id": "70af86ec",
   "metadata": {},
   "outputs": [
    {
     "data": {
      "text/html": [
       "<div>\n",
       "<style scoped>\n",
       "    .dataframe tbody tr th:only-of-type {\n",
       "        vertical-align: middle;\n",
       "    }\n",
       "\n",
       "    .dataframe tbody tr th {\n",
       "        vertical-align: top;\n",
       "    }\n",
       "\n",
       "    .dataframe thead th {\n",
       "        text-align: right;\n",
       "    }\n",
       "</style>\n",
       "<table border=\"1\" class=\"dataframe\">\n",
       "  <thead>\n",
       "    <tr style=\"text-align: right;\">\n",
       "      <th></th>\n",
       "      <th>essay_id</th>\n",
       "      <th>essay_set</th>\n",
       "      <th>essay</th>\n",
       "      <th>domain1_score</th>\n",
       "      <th>domain2_score</th>\n",
       "      <th>embs</th>\n",
       "    </tr>\n",
       "  </thead>\n",
       "  <tbody>\n",
       "    <tr>\n",
       "      <th>0</th>\n",
       "      <td>2978</td>\n",
       "      <td>2</td>\n",
       "      <td>Certain materials being removed from libraries...</td>\n",
       "      <td>4</td>\n",
       "      <td>4.0</td>\n",
       "      <td>[[0.032874464988708496, 0.062107767909765244, ...</td>\n",
       "    </tr>\n",
       "    <tr>\n",
       "      <th>1</th>\n",
       "      <td>2979</td>\n",
       "      <td>2</td>\n",
       "      <td>Write a persuasive essay to a newspaper reflec...</td>\n",
       "      <td>1</td>\n",
       "      <td>1.0</td>\n",
       "      <td>[[0.02395753376185894, -0.033956337720155716, ...</td>\n",
       "    </tr>\n",
       "    <tr>\n",
       "      <th>2</th>\n",
       "      <td>2980</td>\n",
       "      <td>2</td>\n",
       "      <td>Do you think that libraries should remove cert...</td>\n",
       "      <td>2</td>\n",
       "      <td>3.0</td>\n",
       "      <td>[[0.006172113120555878, 0.005909167230129242, ...</td>\n",
       "    </tr>\n",
       "    <tr>\n",
       "      <th>3</th>\n",
       "      <td>2981</td>\n",
       "      <td>2</td>\n",
       "      <td>In @DATE1's world, there are many things found...</td>\n",
       "      <td>4</td>\n",
       "      <td>4.0</td>\n",
       "      <td>[[0.027020549401640892, 0.01217526663094759, 0...</td>\n",
       "    </tr>\n",
       "    <tr>\n",
       "      <th>4</th>\n",
       "      <td>2982</td>\n",
       "      <td>2</td>\n",
       "      <td>In life you have the 'offensive things'. The l...</td>\n",
       "      <td>4</td>\n",
       "      <td>4.0</td>\n",
       "      <td>[[0.02435912750661373, 0.06014935299754143, 0....</td>\n",
       "    </tr>\n",
       "  </tbody>\n",
       "</table>\n",
       "</div>"
      ],
      "text/plain": [
       "   essay_id  essay_set                                              essay  \\\n",
       "0      2978          2  Certain materials being removed from libraries...   \n",
       "1      2979          2  Write a persuasive essay to a newspaper reflec...   \n",
       "2      2980          2  Do you think that libraries should remove cert...   \n",
       "3      2981          2  In @DATE1's world, there are many things found...   \n",
       "4      2982          2  In life you have the 'offensive things'. The l...   \n",
       "\n",
       "   domain1_score  domain2_score  \\\n",
       "0              4            4.0   \n",
       "1              1            1.0   \n",
       "2              2            3.0   \n",
       "3              4            4.0   \n",
       "4              4            4.0   \n",
       "\n",
       "                                                embs  \n",
       "0  [[0.032874464988708496, 0.062107767909765244, ...  \n",
       "1  [[0.02395753376185894, -0.033956337720155716, ...  \n",
       "2  [[0.006172113120555878, 0.005909167230129242, ...  \n",
       "3  [[0.027020549401640892, 0.01217526663094759, 0...  \n",
       "4  [[0.02435912750661373, 0.06014935299754143, 0....  "
      ]
     },
     "execution_count": 21,
     "metadata": {},
     "output_type": "execute_result"
    }
   ],
   "source": [
    "df = pd.DataFrame(results)\n",
    "df.head()"
   ]
  },
  {
   "cell_type": "code",
   "execution_count": 22,
   "id": "25605b64",
   "metadata": {},
   "outputs": [],
   "source": [
    "df.to_csv(\n",
    "    f\"./essay_set_{ESSAY_SET}_and_gpt_sent_embs.tsv\",\n",
    "    sep=\"\\t\",\n",
    "    encoding=\"ISO-8859-1\",\n",
    ")"
   ]
  },
  {
   "cell_type": "code",
   "execution_count": 23,
   "id": "600847af",
   "metadata": {},
   "outputs": [],
   "source": [
    "df = pd.read_csv(\n",
    "    f\"./essay_set_{ESSAY_SET}_and_gpt_sent_embs.tsv\",\n",
    "    sep=\"\\t\",\n",
    "    encoding=\"ISO-8859-1\",\n",
    "    usecols=[\"essay_id\", \"essay_set\", \"essay\", \"domain1_score\", \"domain2_score\", \"embs\"],\n",
    ")"
   ]
  },
  {
   "cell_type": "code",
   "execution_count": 24,
   "id": "e61a712f",
   "metadata": {},
   "outputs": [
    {
     "data": {
      "text/html": [
       "<div>\n",
       "<style scoped>\n",
       "    .dataframe tbody tr th:only-of-type {\n",
       "        vertical-align: middle;\n",
       "    }\n",
       "\n",
       "    .dataframe tbody tr th {\n",
       "        vertical-align: top;\n",
       "    }\n",
       "\n",
       "    .dataframe thead th {\n",
       "        text-align: right;\n",
       "    }\n",
       "</style>\n",
       "<table border=\"1\" class=\"dataframe\">\n",
       "  <thead>\n",
       "    <tr style=\"text-align: right;\">\n",
       "      <th></th>\n",
       "      <th>essay_id</th>\n",
       "      <th>essay_set</th>\n",
       "      <th>essay</th>\n",
       "      <th>domain1_score</th>\n",
       "      <th>domain2_score</th>\n",
       "      <th>embs</th>\n",
       "    </tr>\n",
       "  </thead>\n",
       "  <tbody>\n",
       "    <tr>\n",
       "      <th>0</th>\n",
       "      <td>2978</td>\n",
       "      <td>2</td>\n",
       "      <td>Certain materials being removed from libraries...</td>\n",
       "      <td>4</td>\n",
       "      <td>4.0</td>\n",
       "      <td>[[0.032874464988708496, 0.062107767909765244, ...</td>\n",
       "    </tr>\n",
       "    <tr>\n",
       "      <th>1</th>\n",
       "      <td>2979</td>\n",
       "      <td>2</td>\n",
       "      <td>Write a persuasive essay to a newspaper reflec...</td>\n",
       "      <td>1</td>\n",
       "      <td>1.0</td>\n",
       "      <td>[[0.02395753376185894, -0.033956337720155716, ...</td>\n",
       "    </tr>\n",
       "    <tr>\n",
       "      <th>2</th>\n",
       "      <td>2980</td>\n",
       "      <td>2</td>\n",
       "      <td>Do you think that libraries should remove cert...</td>\n",
       "      <td>2</td>\n",
       "      <td>3.0</td>\n",
       "      <td>[[0.006172113120555878, 0.005909167230129242, ...</td>\n",
       "    </tr>\n",
       "    <tr>\n",
       "      <th>3</th>\n",
       "      <td>2981</td>\n",
       "      <td>2</td>\n",
       "      <td>In @DATE1's world, there are many things found...</td>\n",
       "      <td>4</td>\n",
       "      <td>4.0</td>\n",
       "      <td>[[0.027020549401640892, 0.01217526663094759, 0...</td>\n",
       "    </tr>\n",
       "    <tr>\n",
       "      <th>4</th>\n",
       "      <td>2982</td>\n",
       "      <td>2</td>\n",
       "      <td>In life you have the 'offensive things'. The l...</td>\n",
       "      <td>4</td>\n",
       "      <td>4.0</td>\n",
       "      <td>[[0.02435912750661373, 0.06014935299754143, 0....</td>\n",
       "    </tr>\n",
       "  </tbody>\n",
       "</table>\n",
       "</div>"
      ],
      "text/plain": [
       "   essay_id  essay_set                                              essay  \\\n",
       "0      2978          2  Certain materials being removed from libraries...   \n",
       "1      2979          2  Write a persuasive essay to a newspaper reflec...   \n",
       "2      2980          2  Do you think that libraries should remove cert...   \n",
       "3      2981          2  In @DATE1's world, there are many things found...   \n",
       "4      2982          2  In life you have the 'offensive things'. The l...   \n",
       "\n",
       "   domain1_score  domain2_score  \\\n",
       "0              4            4.0   \n",
       "1              1            1.0   \n",
       "2              2            3.0   \n",
       "3              4            4.0   \n",
       "4              4            4.0   \n",
       "\n",
       "                                                embs  \n",
       "0  [[0.032874464988708496, 0.062107767909765244, ...  \n",
       "1  [[0.02395753376185894, -0.033956337720155716, ...  \n",
       "2  [[0.006172113120555878, 0.005909167230129242, ...  \n",
       "3  [[0.027020549401640892, 0.01217526663094759, 0...  \n",
       "4  [[0.02435912750661373, 0.06014935299754143, 0....  "
      ]
     },
     "execution_count": 24,
     "metadata": {},
     "output_type": "execute_result"
    }
   ],
   "source": [
    "df.head()"
   ]
  },
  {
   "cell_type": "code",
   "execution_count": null,
   "id": "77f1eb39",
   "metadata": {},
   "outputs": [],
   "source": []
  },
  {
   "cell_type": "code",
   "execution_count": null,
   "id": "b6394e9f",
   "metadata": {},
   "outputs": [],
   "source": []
  }
 ],
 "metadata": {
  "kernelspec": {
   "display_name": "Python 3 (ipykernel)",
   "language": "python",
   "name": "python3"
  },
  "language_info": {
   "codemirror_mode": {
    "name": "ipython",
    "version": 3
   },
   "file_extension": ".py",
   "mimetype": "text/x-python",
   "name": "python",
   "nbconvert_exporter": "python",
   "pygments_lexer": "ipython3",
   "version": "3.8.10"
  }
 },
 "nbformat": 4,
 "nbformat_minor": 5
}
